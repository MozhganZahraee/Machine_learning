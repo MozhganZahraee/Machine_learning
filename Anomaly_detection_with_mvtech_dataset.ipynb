{
  "cells": [
    {
      "cell_type": "markdown",
      "metadata": {
        "id": "view-in-github",
        "colab_type": "text"
      },
      "source": [
        "<a href=\"https://colab.research.google.com/github/MozhganZahraee/Machine_learning/blob/main/Anomaly_detection_with_mvtech_dataset.ipynb\" target=\"_parent\"><img src=\"https://colab.research.google.com/assets/colab-badge.svg\" alt=\"Open In Colab\"/></a>"
      ]
    },
    {
      "cell_type": "code",
      "execution_count": 1,
      "metadata": {
        "id": "PlaiqapFKLP9",
        "colab": {
          "base_uri": "https://localhost:8080/"
        },
        "outputId": "fc9d37f4-5e65-46be-df6f-f13adc6531f9"
      },
      "outputs": [
        {
          "output_type": "stream",
          "name": "stdout",
          "text": [
            "/content/drive/MyDrive/Github/anomaly-detection\n"
          ]
        }
      ],
      "source": [
        "%cd /content/drive/MyDrive/Github/anomaly-detection"
      ]
    },
    {
      "cell_type": "code",
      "execution_count": 2,
      "metadata": {
        "colab": {
          "base_uri": "https://localhost:8080/"
        },
        "id": "Qv3q2bBSO-wY",
        "outputId": "8ce43267-3f48-47de-da4f-d01e81ef21e9"
      },
      "outputs": [
        {
          "output_type": "stream",
          "name": "stdout",
          "text": [
            "fatal: destination path 'anomalib' already exists and is not an empty directory.\n"
          ]
        }
      ],
      "source": [
        "!git clone https://github.com/openvinotoolkit/anomalib.git"
      ]
    },
    {
      "cell_type": "code",
      "execution_count": 3,
      "metadata": {
        "colab": {
          "base_uri": "https://localhost:8080/",
          "height": 1000
        },
        "id": "OqE_EIlCU8c-",
        "outputId": "d4f1ab2c-dc18-496a-cc13-15717019c7ad"
      },
      "outputs": [
        {
          "output_type": "stream",
          "name": "stdout",
          "text": [
            "Looking in indexes: https://pypi.org/simple, https://us-python.pkg.dev/colab-wheels/public/simple/\n",
            "Collecting anomalib\n",
            "  Downloading anomalib-0.3.7-py3-none-any.whl (257 kB)\n",
            "\u001b[K     |████████████████████████████████| 257 kB 8.4 MB/s \n",
            "\u001b[?25hRequirement already satisfied: imgaug==0.4.0 in /usr/local/lib/python3.8/dist-packages (from anomalib) (0.4.0)\n",
            "Collecting pytorch-lightning<1.7.0,>=1.6.0\n",
            "  Downloading pytorch_lightning-1.6.5-py3-none-any.whl (585 kB)\n",
            "\u001b[K     |████████████████████████████████| 585 kB 76.0 MB/s \n",
            "\u001b[?25hCollecting wandb==0.12.17\n",
            "  Downloading wandb-0.12.17-py2.py3-none-any.whl (1.8 MB)\n",
            "\u001b[K     |████████████████████████████████| 1.8 MB 72.1 MB/s \n",
            "\u001b[?25hRequirement already satisfied: opencv-python>=4.5.3.56 in /usr/local/lib/python3.8/dist-packages (from anomalib) (4.6.0.66)\n",
            "Requirement already satisfied: pandas>=1.1.0 in /usr/local/lib/python3.8/dist-packages (from anomalib) (1.3.5)\n",
            "Collecting omegaconf>=2.1.1\n",
            "  Downloading omegaconf-2.2.3-py3-none-any.whl (79 kB)\n",
            "\u001b[K     |████████████████████████████████| 79 kB 8.5 MB/s \n",
            "\u001b[?25hCollecting gradio>=2.9.4\n",
            "  Downloading gradio-3.12.0-py3-none-any.whl (11.6 MB)\n",
            "\u001b[K     |████████████████████████████████| 11.6 MB 62.8 MB/s \n",
            "\u001b[?25hCollecting matplotlib>=3.4.3\n",
            "  Downloading matplotlib-3.6.2-cp38-cp38-manylinux_2_12_x86_64.manylinux2010_x86_64.whl (9.4 MB)\n",
            "\u001b[K     |████████████████████████████████| 9.4 MB 57.1 MB/s \n",
            "\u001b[?25hRequirement already satisfied: albumentations>=1.1.0 in /usr/local/lib/python3.8/dist-packages (from anomalib) (1.2.1)\n",
            "Collecting jsonargparse[signatures]>=4.3\n",
            "  Downloading jsonargparse-4.18.0-py3-none-any.whl (169 kB)\n",
            "\u001b[K     |████████████████████████████████| 169 kB 72.6 MB/s \n",
            "\u001b[?25hCollecting einops>=0.3.2\n",
            "  Downloading einops-0.6.0-py3-none-any.whl (41 kB)\n",
            "\u001b[K     |████████████████████████████████| 41 kB 551 kB/s \n",
            "\u001b[?25hCollecting kornia>=0.6.6\n",
            "  Downloading kornia-0.6.8-py2.py3-none-any.whl (551 kB)\n",
            "\u001b[K     |████████████████████████████████| 551 kB 79.7 MB/s \n",
            "\u001b[?25hCollecting comet-ml>=3.31.7\n",
            "  Downloading comet_ml-3.31.19-py3-none-any.whl (441 kB)\n",
            "\u001b[K     |████████████████████████████████| 441 kB 37.2 MB/s \n",
            "\u001b[?25hCollecting timm==0.5.4\n",
            "  Downloading timm-0.5.4-py3-none-any.whl (431 kB)\n",
            "\u001b[K     |████████████████████████████████| 431 kB 65.1 MB/s \n",
            "\u001b[?25hCollecting torchvision<=0.13.0,>=0.9.1\n",
            "  Downloading torchvision-0.13.0-cp38-cp38-manylinux1_x86_64.whl (19.1 MB)\n",
            "\u001b[K     |████████████████████████████████| 19.1 MB 1.2 MB/s \n",
            "\u001b[?25hCollecting torchmetrics<=0.9.3,>=0.9.1\n",
            "  Downloading torchmetrics-0.9.3-py3-none-any.whl (419 kB)\n",
            "\u001b[K     |████████████████████████████████| 419 kB 83.6 MB/s \n",
            "\u001b[?25hCollecting torchtext<=0.13.0,>=0.9.1\n",
            "  Downloading torchtext-0.13.0-cp38-cp38-manylinux1_x86_64.whl (1.9 MB)\n",
            "\u001b[K     |████████████████████████████████| 1.9 MB 59.3 MB/s \n",
            "\u001b[?25hRequirement already satisfied: Pillow in /usr/local/lib/python3.8/dist-packages (from imgaug==0.4.0->anomalib) (7.1.2)\n",
            "Requirement already satisfied: six in /usr/local/lib/python3.8/dist-packages (from imgaug==0.4.0->anomalib) (1.15.0)\n",
            "Requirement already satisfied: Shapely in /usr/local/lib/python3.8/dist-packages (from imgaug==0.4.0->anomalib) (1.8.5.post1)\n",
            "Requirement already satisfied: imageio in /usr/local/lib/python3.8/dist-packages (from imgaug==0.4.0->anomalib) (2.9.0)\n",
            "Requirement already satisfied: scikit-image>=0.14.2 in /usr/local/lib/python3.8/dist-packages (from imgaug==0.4.0->anomalib) (0.18.3)\n",
            "Requirement already satisfied: numpy>=1.15 in /usr/local/lib/python3.8/dist-packages (from imgaug==0.4.0->anomalib) (1.21.6)\n",
            "Requirement already satisfied: scipy in /usr/local/lib/python3.8/dist-packages (from imgaug==0.4.0->anomalib) (1.7.3)\n",
            "Requirement already satisfied: torch>=1.4 in /usr/local/lib/python3.8/dist-packages (from timm==0.5.4->anomalib) (1.12.1+cu113)\n",
            "Collecting sentry-sdk>=1.0.0\n",
            "  Downloading sentry_sdk-1.11.1-py2.py3-none-any.whl (168 kB)\n",
            "\u001b[K     |████████████████████████████████| 168 kB 82.8 MB/s \n",
            "\u001b[?25hCollecting pathtools\n",
            "  Downloading pathtools-0.1.2.tar.gz (11 kB)\n",
            "Requirement already satisfied: python-dateutil>=2.6.1 in /usr/local/lib/python3.8/dist-packages (from wandb==0.12.17->anomalib) (2.8.2)\n",
            "Requirement already satisfied: psutil>=5.0.0 in /usr/local/lib/python3.8/dist-packages (from wandb==0.12.17->anomalib) (5.4.8)\n",
            "Requirement already satisfied: PyYAML in /usr/local/lib/python3.8/dist-packages (from wandb==0.12.17->anomalib) (6.0)\n",
            "Requirement already satisfied: requests<3,>=2.0.0 in /usr/local/lib/python3.8/dist-packages (from wandb==0.12.17->anomalib) (2.23.0)\n",
            "Requirement already satisfied: Click!=8.0.0,>=7.0 in /usr/local/lib/python3.8/dist-packages (from wandb==0.12.17->anomalib) (7.1.2)\n",
            "Collecting setproctitle\n",
            "  Downloading setproctitle-1.3.2-cp38-cp38-manylinux_2_5_x86_64.manylinux1_x86_64.manylinux_2_17_x86_64.manylinux2014_x86_64.whl (31 kB)\n",
            "Collecting shortuuid>=0.5.0\n",
            "  Downloading shortuuid-1.0.11-py3-none-any.whl (10 kB)\n",
            "Collecting docker-pycreds>=0.4.0\n",
            "  Downloading docker_pycreds-0.4.0-py2.py3-none-any.whl (9.0 kB)\n",
            "Requirement already satisfied: protobuf<4.0dev,>=3.12.0 in /usr/local/lib/python3.8/dist-packages (from wandb==0.12.17->anomalib) (3.19.6)\n",
            "Collecting GitPython>=1.0.0\n",
            "  Downloading GitPython-3.1.29-py3-none-any.whl (182 kB)\n",
            "\u001b[K     |████████████████████████████████| 182 kB 75.0 MB/s \n",
            "\u001b[?25hRequirement already satisfied: setuptools in /usr/local/lib/python3.8/dist-packages (from wandb==0.12.17->anomalib) (57.4.0)\n",
            "Requirement already satisfied: promise<3,>=2.0 in /usr/local/lib/python3.8/dist-packages (from wandb==0.12.17->anomalib) (2.3)\n",
            "Requirement already satisfied: qudida>=0.0.4 in /usr/local/lib/python3.8/dist-packages (from albumentations>=1.1.0->anomalib) (0.0.4)\n",
            "Requirement already satisfied: opencv-python-headless>=4.1.1 in /usr/local/lib/python3.8/dist-packages (from albumentations>=1.1.0->anomalib) (4.6.0.66)\n",
            "Requirement already satisfied: jsonschema!=3.1.0,>=2.6.0 in /usr/local/lib/python3.8/dist-packages (from comet-ml>=3.31.7->anomalib) (4.3.3)\n",
            "Collecting semantic-version>=2.8.0\n",
            "  Downloading semantic_version-2.10.0-py2.py3-none-any.whl (15 kB)\n",
            "Collecting dulwich!=0.20.33,>=0.20.6\n",
            "  Downloading dulwich-0.20.50-cp38-cp38-manylinux_2_17_x86_64.manylinux2014_x86_64.whl (502 kB)\n",
            "\u001b[K     |████████████████████████████████| 502 kB 74.3 MB/s \n",
            "\u001b[?25hCollecting websocket-client<1.4.0,>=0.55.0\n",
            "  Downloading websocket_client-1.3.3-py3-none-any.whl (54 kB)\n",
            "\u001b[K     |████████████████████████████████| 54 kB 3.3 MB/s \n",
            "\u001b[?25hCollecting simplejson\n",
            "  Downloading simplejson-3.18.0-cp38-cp38-manylinux_2_5_x86_64.manylinux1_x86_64.manylinux_2_12_x86_64.manylinux2010_x86_64.whl (139 kB)\n",
            "\u001b[K     |████████████████████████████████| 139 kB 82.3 MB/s \n",
            "\u001b[?25hCollecting everett[ini]>=1.0.1\n",
            "  Downloading everett-3.1.0-py2.py3-none-any.whl (35 kB)\n",
            "Collecting requests-toolbelt>=0.8.0\n",
            "  Downloading requests_toolbelt-0.10.1-py2.py3-none-any.whl (54 kB)\n",
            "\u001b[K     |████████████████████████████████| 54 kB 3.3 MB/s \n",
            "\u001b[?25hCollecting wurlitzer>=1.0.2\n",
            "  Downloading wurlitzer-3.0.3-py3-none-any.whl (7.3 kB)\n",
            "Requirement already satisfied: wrapt>=1.11.2 in /usr/local/lib/python3.8/dist-packages (from comet-ml>=3.31.7->anomalib) (1.14.1)\n",
            "Collecting urllib3>=1.25\n",
            "  Downloading urllib3-1.26.13-py2.py3-none-any.whl (140 kB)\n",
            "\u001b[K     |████████████████████████████████| 140 kB 78.7 MB/s \n",
            "\u001b[?25hCollecting configobj\n",
            "  Downloading configobj-5.0.6.tar.gz (33 kB)\n",
            "Collecting gitdb<5,>=4.0.1\n",
            "  Downloading gitdb-4.0.10-py3-none-any.whl (62 kB)\n",
            "\u001b[K     |████████████████████████████████| 62 kB 1.4 MB/s \n",
            "\u001b[?25hCollecting smmap<6,>=3.0.1\n",
            "  Downloading smmap-5.0.0-py3-none-any.whl (24 kB)\n",
            "Collecting pydub\n",
            "  Downloading pydub-0.25.1-py2.py3-none-any.whl (32 kB)\n",
            "Collecting httpx\n",
            "  Downloading httpx-0.23.1-py3-none-any.whl (84 kB)\n",
            "\u001b[K     |████████████████████████████████| 84 kB 4.1 MB/s \n",
            "\u001b[?25hCollecting ffmpy\n",
            "  Downloading ffmpy-0.3.0.tar.gz (4.8 kB)\n",
            "Collecting markdown-it-py[linkify,plugins]\n",
            "  Downloading markdown_it_py-2.1.0-py3-none-any.whl (84 kB)\n",
            "\u001b[K     |████████████████████████████████| 84 kB 3.2 MB/s \n",
            "\u001b[?25hCollecting paramiko\n",
            "  Downloading paramiko-2.12.0-py2.py3-none-any.whl (213 kB)\n",
            "\u001b[K     |████████████████████████████████| 213 kB 82.8 MB/s \n",
            "\u001b[?25hRequirement already satisfied: aiohttp in /usr/local/lib/python3.8/dist-packages (from gradio>=2.9.4->anomalib) (3.8.3)\n",
            "Collecting pycryptodome\n",
            "  Downloading pycryptodome-3.16.0-cp35-abi3-manylinux_2_5_x86_64.manylinux1_x86_64.manylinux_2_12_x86_64.manylinux2010_x86_64.whl (2.3 MB)\n",
            "\u001b[K     |████████████████████████████████| 2.3 MB 54.6 MB/s \n",
            "\u001b[?25hCollecting fastapi\n",
            "  Downloading fastapi-0.88.0-py3-none-any.whl (55 kB)\n",
            "\u001b[K     |████████████████████████████████| 55 kB 3.8 MB/s \n",
            "\u001b[?25hCollecting orjson\n",
            "  Downloading orjson-3.8.3-cp38-cp38-manylinux_2_17_x86_64.manylinux2014_x86_64.whl (278 kB)\n",
            "\u001b[K     |████████████████████████████████| 278 kB 76.7 MB/s \n",
            "\u001b[?25hCollecting python-multipart\n",
            "  Downloading python-multipart-0.0.5.tar.gz (32 kB)\n",
            "Collecting uvicorn\n",
            "  Downloading uvicorn-0.20.0-py3-none-any.whl (56 kB)\n",
            "\u001b[K     |████████████████████████████████| 56 kB 5.7 MB/s \n",
            "\u001b[?25hRequirement already satisfied: jinja2 in /usr/local/lib/python3.8/dist-packages (from gradio>=2.9.4->anomalib) (2.11.3)\n",
            "Collecting websockets>=10.0\n",
            "  Downloading websockets-10.4-cp38-cp38-manylinux_2_5_x86_64.manylinux1_x86_64.manylinux_2_17_x86_64.manylinux2014_x86_64.whl (106 kB)\n",
            "\u001b[K     |████████████████████████████████| 106 kB 78.2 MB/s \n",
            "\u001b[?25hRequirement already satisfied: fsspec in /usr/local/lib/python3.8/dist-packages (from gradio>=2.9.4->anomalib) (2022.11.0)\n",
            "Collecting h11<0.13,>=0.11\n",
            "  Downloading h11-0.12.0-py3-none-any.whl (54 kB)\n",
            "\u001b[K     |████████████████████████████████| 54 kB 3.7 MB/s \n",
            "\u001b[?25hRequirement already satisfied: pydantic in /usr/local/lib/python3.8/dist-packages (from gradio>=2.9.4->anomalib) (1.10.2)\n",
            "Collecting docstring-parser>=0.15\n",
            "  Downloading docstring_parser-0.15-py3-none-any.whl (36 kB)\n",
            "Requirement already satisfied: pyrsistent!=0.17.0,!=0.17.1,!=0.17.2,>=0.14.0 in /usr/local/lib/python3.8/dist-packages (from jsonschema!=3.1.0,>=2.6.0->comet-ml>=3.31.7->anomalib) (0.19.2)\n",
            "Requirement already satisfied: attrs>=17.4.0 in /usr/local/lib/python3.8/dist-packages (from jsonschema!=3.1.0,>=2.6.0->comet-ml>=3.31.7->anomalib) (22.1.0)\n",
            "Requirement already satisfied: importlib-resources>=1.4.0 in /usr/local/lib/python3.8/dist-packages (from jsonschema!=3.1.0,>=2.6.0->comet-ml>=3.31.7->anomalib) (5.10.0)\n",
            "Requirement already satisfied: zipp>=3.1.0 in /usr/local/lib/python3.8/dist-packages (from importlib-resources>=1.4.0->jsonschema!=3.1.0,>=2.6.0->comet-ml>=3.31.7->anomalib) (3.10.0)\n",
            "Requirement already satisfied: packaging in /usr/local/lib/python3.8/dist-packages (from kornia>=0.6.6->anomalib) (21.3)\n",
            "Collecting contourpy>=1.0.1\n",
            "  Downloading contourpy-1.0.6-cp38-cp38-manylinux_2_17_x86_64.manylinux2014_x86_64.whl (295 kB)\n",
            "\u001b[K     |████████████████████████████████| 295 kB 78.3 MB/s \n",
            "\u001b[?25hRequirement already satisfied: cycler>=0.10 in /usr/local/lib/python3.8/dist-packages (from matplotlib>=3.4.3->anomalib) (0.11.0)\n",
            "Requirement already satisfied: pyparsing>=2.2.1 in /usr/local/lib/python3.8/dist-packages (from matplotlib>=3.4.3->anomalib) (3.0.9)\n",
            "Collecting fonttools>=4.22.0\n",
            "  Downloading fonttools-4.38.0-py3-none-any.whl (965 kB)\n",
            "\u001b[K     |████████████████████████████████| 965 kB 64.8 MB/s \n",
            "\u001b[?25hRequirement already satisfied: kiwisolver>=1.0.1 in /usr/local/lib/python3.8/dist-packages (from matplotlib>=3.4.3->anomalib) (1.4.4)\n",
            "Collecting antlr4-python3-runtime==4.9.*\n",
            "  Downloading antlr4-python3-runtime-4.9.3.tar.gz (117 kB)\n",
            "\u001b[K     |████████████████████████████████| 117 kB 80.9 MB/s \n",
            "\u001b[?25hRequirement already satisfied: pytz>=2017.3 in /usr/local/lib/python3.8/dist-packages (from pandas>=1.1.0->anomalib) (2022.6)\n",
            "Collecting pyDeprecate>=0.3.1\n",
            "  Downloading pyDeprecate-0.3.2-py3-none-any.whl (10 kB)\n",
            "Requirement already satisfied: typing-extensions>=4.0.0 in /usr/local/lib/python3.8/dist-packages (from pytorch-lightning<1.7.0,>=1.6.0->anomalib) (4.1.1)\n",
            "Requirement already satisfied: tqdm>=4.57.0 in /usr/local/lib/python3.8/dist-packages (from pytorch-lightning<1.7.0,>=1.6.0->anomalib) (4.64.1)\n",
            "Requirement already satisfied: tensorboard>=2.2.0 in /usr/local/lib/python3.8/dist-packages (from pytorch-lightning<1.7.0,>=1.6.0->anomalib) (2.9.1)\n",
            "Requirement already satisfied: yarl<2.0,>=1.0 in /usr/local/lib/python3.8/dist-packages (from aiohttp->gradio>=2.9.4->anomalib) (1.8.1)\n",
            "Requirement already satisfied: async-timeout<5.0,>=4.0.0a3 in /usr/local/lib/python3.8/dist-packages (from aiohttp->gradio>=2.9.4->anomalib) (4.0.2)\n",
            "Requirement already satisfied: charset-normalizer<3.0,>=2.0 in /usr/local/lib/python3.8/dist-packages (from aiohttp->gradio>=2.9.4->anomalib) (2.1.1)\n",
            "Requirement already satisfied: multidict<7.0,>=4.5 in /usr/local/lib/python3.8/dist-packages (from aiohttp->gradio>=2.9.4->anomalib) (6.0.2)\n",
            "Requirement already satisfied: aiosignal>=1.1.2 in /usr/local/lib/python3.8/dist-packages (from aiohttp->gradio>=2.9.4->anomalib) (1.3.1)\n",
            "Requirement already satisfied: frozenlist>=1.1.1 in /usr/local/lib/python3.8/dist-packages (from aiohttp->gradio>=2.9.4->anomalib) (1.3.3)\n",
            "Requirement already satisfied: scikit-learn>=0.19.1 in /usr/local/lib/python3.8/dist-packages (from qudida>=0.0.4->albumentations>=1.1.0->anomalib) (1.0.2)\n",
            "Requirement already satisfied: idna<3,>=2.5 in /usr/local/lib/python3.8/dist-packages (from requests<3,>=2.0.0->wandb==0.12.17->anomalib) (2.10)\n",
            "Requirement already satisfied: chardet<4,>=3.0.2 in /usr/local/lib/python3.8/dist-packages (from requests<3,>=2.0.0->wandb==0.12.17->anomalib) (3.0.4)\n",
            "Requirement already satisfied: certifi>=2017.4.17 in /usr/local/lib/python3.8/dist-packages (from requests<3,>=2.0.0->wandb==0.12.17->anomalib) (2022.9.24)\n",
            "Collecting urllib3>=1.25\n",
            "  Downloading urllib3-1.25.11-py2.py3-none-any.whl (127 kB)\n",
            "\u001b[K     |████████████████████████████████| 127 kB 74.1 MB/s \n",
            "\u001b[?25hRequirement already satisfied: networkx>=2.0 in /usr/local/lib/python3.8/dist-packages (from scikit-image>=0.14.2->imgaug==0.4.0->anomalib) (2.6.3)\n",
            "Requirement already satisfied: tifffile>=2019.7.26 in /usr/local/lib/python3.8/dist-packages (from scikit-image>=0.14.2->imgaug==0.4.0->anomalib) (2021.11.2)\n",
            "Requirement already satisfied: PyWavelets>=1.1.1 in /usr/local/lib/python3.8/dist-packages (from scikit-image>=0.14.2->imgaug==0.4.0->anomalib) (1.3.0)\n",
            "Requirement already satisfied: threadpoolctl>=2.0.0 in /usr/local/lib/python3.8/dist-packages (from scikit-learn>=0.19.1->qudida>=0.0.4->albumentations>=1.1.0->anomalib) (3.1.0)\n",
            "Requirement already satisfied: joblib>=0.11 in /usr/local/lib/python3.8/dist-packages (from scikit-learn>=0.19.1->qudida>=0.0.4->albumentations>=1.1.0->anomalib) (1.2.0)\n",
            "Collecting sentry-sdk>=1.0.0\n",
            "  Downloading sentry_sdk-1.11.0-py2.py3-none-any.whl (168 kB)\n",
            "\u001b[K     |████████████████████████████████| 168 kB 82.9 MB/s \n",
            "\u001b[?25h  Downloading sentry_sdk-1.10.1-py2.py3-none-any.whl (166 kB)\n",
            "\u001b[K     |████████████████████████████████| 166 kB 87.2 MB/s \n",
            "\u001b[?25h  Downloading sentry_sdk-1.10.0-py2.py3-none-any.whl (166 kB)\n",
            "\u001b[K     |████████████████████████████████| 166 kB 90.6 MB/s \n",
            "\u001b[?25h  Downloading sentry_sdk-1.9.10-py2.py3-none-any.whl (162 kB)\n",
            "\u001b[K     |████████████████████████████████| 162 kB 90.3 MB/s \n",
            "\u001b[?25h  Downloading sentry_sdk-1.9.9-py2.py3-none-any.whl (162 kB)\n",
            "\u001b[K     |████████████████████████████████| 162 kB 91.5 MB/s \n",
            "\u001b[?25h  Downloading sentry_sdk-1.9.8-py2.py3-none-any.whl (158 kB)\n",
            "\u001b[K     |████████████████████████████████| 158 kB 92.1 MB/s \n",
            "\u001b[?25h  Downloading sentry_sdk-1.9.7-py2.py3-none-any.whl (157 kB)\n",
            "\u001b[K     |████████████████████████████████| 157 kB 87.9 MB/s \n",
            "\u001b[?25h  Downloading sentry_sdk-1.9.6-py2.py3-none-any.whl (157 kB)\n",
            "\u001b[K     |████████████████████████████████| 157 kB 90.1 MB/s \n",
            "\u001b[?25h  Downloading sentry_sdk-1.9.5-py2.py3-none-any.whl (157 kB)\n",
            "\u001b[K     |████████████████████████████████| 157 kB 85.1 MB/s \n",
            "\u001b[?25h  Downloading sentry_sdk-1.9.4-py2.py3-none-any.whl (157 kB)\n",
            "\u001b[K     |████████████████████████████████| 157 kB 90.5 MB/s \n",
            "\u001b[?25h  Downloading sentry_sdk-1.9.3-py2.py3-none-any.whl (157 kB)\n",
            "\u001b[K     |████████████████████████████████| 157 kB 84.6 MB/s \n",
            "\u001b[?25h  Downloading sentry_sdk-1.9.2-py2.py3-none-any.whl (157 kB)\n",
            "\u001b[K     |████████████████████████████████| 157 kB 78.8 MB/s \n",
            "\u001b[?25h  Downloading sentry_sdk-1.9.1-py2.py3-none-any.whl (157 kB)\n",
            "\u001b[K     |████████████████████████████████| 157 kB 74.9 MB/s \n",
            "\u001b[?25h  Downloading sentry_sdk-1.9.0-py2.py3-none-any.whl (156 kB)\n",
            "\u001b[K     |████████████████████████████████| 156 kB 79.7 MB/s \n",
            "\u001b[?25hRequirement already satisfied: markdown>=2.6.8 in /usr/local/lib/python3.8/dist-packages (from tensorboard>=2.2.0->pytorch-lightning<1.7.0,>=1.6.0->anomalib) (3.4.1)\n",
            "Requirement already satisfied: tensorboard-plugin-wit>=1.6.0 in /usr/local/lib/python3.8/dist-packages (from tensorboard>=2.2.0->pytorch-lightning<1.7.0,>=1.6.0->anomalib) (1.8.1)\n",
            "Requirement already satisfied: werkzeug>=1.0.1 in /usr/local/lib/python3.8/dist-packages (from tensorboard>=2.2.0->pytorch-lightning<1.7.0,>=1.6.0->anomalib) (1.0.1)\n",
            "Requirement already satisfied: google-auth-oauthlib<0.5,>=0.4.1 in /usr/local/lib/python3.8/dist-packages (from tensorboard>=2.2.0->pytorch-lightning<1.7.0,>=1.6.0->anomalib) (0.4.6)\n",
            "Requirement already satisfied: tensorboard-data-server<0.7.0,>=0.6.0 in /usr/local/lib/python3.8/dist-packages (from tensorboard>=2.2.0->pytorch-lightning<1.7.0,>=1.6.0->anomalib) (0.6.1)\n",
            "Requirement already satisfied: grpcio>=1.24.3 in /usr/local/lib/python3.8/dist-packages (from tensorboard>=2.2.0->pytorch-lightning<1.7.0,>=1.6.0->anomalib) (1.50.0)\n",
            "Requirement already satisfied: absl-py>=0.4 in /usr/local/lib/python3.8/dist-packages (from tensorboard>=2.2.0->pytorch-lightning<1.7.0,>=1.6.0->anomalib) (1.3.0)\n",
            "Requirement already satisfied: wheel>=0.26 in /usr/local/lib/python3.8/dist-packages (from tensorboard>=2.2.0->pytorch-lightning<1.7.0,>=1.6.0->anomalib) (0.38.4)\n",
            "Requirement already satisfied: google-auth<3,>=1.6.3 in /usr/local/lib/python3.8/dist-packages (from tensorboard>=2.2.0->pytorch-lightning<1.7.0,>=1.6.0->anomalib) (2.14.1)\n",
            "Requirement already satisfied: rsa<5,>=3.1.4 in /usr/local/lib/python3.8/dist-packages (from google-auth<3,>=1.6.3->tensorboard>=2.2.0->pytorch-lightning<1.7.0,>=1.6.0->anomalib) (4.9)\n",
            "Requirement already satisfied: pyasn1-modules>=0.2.1 in /usr/local/lib/python3.8/dist-packages (from google-auth<3,>=1.6.3->tensorboard>=2.2.0->pytorch-lightning<1.7.0,>=1.6.0->anomalib) (0.2.8)\n",
            "Requirement already satisfied: cachetools<6.0,>=2.0.0 in /usr/local/lib/python3.8/dist-packages (from google-auth<3,>=1.6.3->tensorboard>=2.2.0->pytorch-lightning<1.7.0,>=1.6.0->anomalib) (5.2.0)\n",
            "Requirement already satisfied: requests-oauthlib>=0.7.0 in /usr/local/lib/python3.8/dist-packages (from google-auth-oauthlib<0.5,>=0.4.1->tensorboard>=2.2.0->pytorch-lightning<1.7.0,>=1.6.0->anomalib) (1.3.1)\n",
            "Requirement already satisfied: importlib-metadata>=4.4 in /usr/local/lib/python3.8/dist-packages (from markdown>=2.6.8->tensorboard>=2.2.0->pytorch-lightning<1.7.0,>=1.6.0->anomalib) (4.13.0)\n",
            "Requirement already satisfied: pyasn1<0.5.0,>=0.4.6 in /usr/local/lib/python3.8/dist-packages (from pyasn1-modules>=0.2.1->google-auth<3,>=1.6.3->tensorboard>=2.2.0->pytorch-lightning<1.7.0,>=1.6.0->anomalib) (0.4.8)\n",
            "Requirement already satisfied: oauthlib>=3.0.0 in /usr/local/lib/python3.8/dist-packages (from requests-oauthlib>=0.7.0->google-auth-oauthlib<0.5,>=0.4.1->tensorboard>=2.2.0->pytorch-lightning<1.7.0,>=1.6.0->anomalib) (3.2.2)\n",
            "Collecting torch>=1.4\n",
            "  Downloading torch-1.12.0-cp38-cp38-manylinux1_x86_64.whl (776.3 MB)\n",
            "\u001b[K     |████████████████████████████████| 776.3 MB 11 kB/s \n",
            "\u001b[?25hCollecting starlette==0.22.0\n",
            "  Downloading starlette-0.22.0-py3-none-any.whl (64 kB)\n",
            "\u001b[K     |████████████████████████████████| 64 kB 3.4 MB/s \n",
            "\u001b[?25hCollecting anyio<5,>=3.4.0\n",
            "  Downloading anyio-3.6.2-py3-none-any.whl (80 kB)\n",
            "\u001b[K     |████████████████████████████████| 80 kB 9.7 MB/s \n",
            "\u001b[?25hCollecting sniffio>=1.1\n",
            "  Downloading sniffio-1.3.0-py3-none-any.whl (10 kB)\n",
            "Collecting rfc3986[idna2008]<2,>=1.3\n",
            "  Downloading rfc3986-1.5.0-py2.py3-none-any.whl (31 kB)\n",
            "Collecting httpcore<0.17.0,>=0.15.0\n",
            "  Downloading httpcore-0.16.2-py3-none-any.whl (68 kB)\n",
            "\u001b[K     |████████████████████████████████| 68 kB 8.6 MB/s \n",
            "\u001b[?25h  Downloading httpcore-0.16.1-py3-none-any.whl (68 kB)\n",
            "\u001b[K     |████████████████████████████████| 68 kB 8.3 MB/s \n",
            "\u001b[?25h  Downloading httpcore-0.16.0-py3-none-any.whl (68 kB)\n",
            "\u001b[K     |████████████████████████████████| 68 kB 8.1 MB/s \n",
            "\u001b[?25h  Downloading httpcore-0.15.0-py3-none-any.whl (68 kB)\n",
            "\u001b[K     |████████████████████████████████| 68 kB 9.0 MB/s \n",
            "\u001b[?25hRequirement already satisfied: MarkupSafe>=0.23 in /usr/local/lib/python3.8/dist-packages (from jinja2->gradio>=2.9.4->anomalib) (2.0.1)\n",
            "Collecting mdurl~=0.1\n",
            "  Downloading mdurl-0.1.2-py3-none-any.whl (10.0 kB)\n",
            "Collecting mdit-py-plugins\n",
            "  Downloading mdit_py_plugins-0.3.3-py3-none-any.whl (50 kB)\n",
            "\u001b[K     |████████████████████████████████| 50 kB 7.8 MB/s \n",
            "\u001b[?25hCollecting linkify-it-py~=1.0\n",
            "  Downloading linkify_it_py-1.0.3-py3-none-any.whl (19 kB)\n",
            "Collecting uc-micro-py\n",
            "  Downloading uc_micro_py-1.0.1-py3-none-any.whl (6.2 kB)\n",
            "Collecting cryptography>=2.5\n",
            "  Downloading cryptography-38.0.4-cp36-abi3-manylinux_2_24_x86_64.whl (4.0 MB)\n",
            "\u001b[K     |████████████████████████████████| 4.0 MB 47.5 MB/s \n",
            "\u001b[?25hCollecting pynacl>=1.0.1\n",
            "  Downloading PyNaCl-1.5.0-cp36-abi3-manylinux_2_17_x86_64.manylinux2014_x86_64.manylinux_2_24_x86_64.whl (856 kB)\n",
            "\u001b[K     |████████████████████████████████| 856 kB 78.4 MB/s \n",
            "\u001b[?25hCollecting bcrypt>=3.1.3\n",
            "  Downloading bcrypt-4.0.1-cp36-abi3-manylinux_2_24_x86_64.whl (593 kB)\n",
            "\u001b[K     |████████████████████████████████| 593 kB 68.4 MB/s \n",
            "\u001b[?25hRequirement already satisfied: cffi>=1.12 in /usr/local/lib/python3.8/dist-packages (from cryptography>=2.5->paramiko->gradio>=2.9.4->anomalib) (1.15.1)\n",
            "Requirement already satisfied: pycparser in /usr/local/lib/python3.8/dist-packages (from cffi>=1.12->cryptography>=2.5->paramiko->gradio>=2.9.4->anomalib) (2.21)\n",
            "Building wheels for collected packages: antlr4-python3-runtime, configobj, ffmpy, pathtools, python-multipart\n",
            "  Building wheel for antlr4-python3-runtime (setup.py) ... \u001b[?25l\u001b[?25hdone\n",
            "  Created wheel for antlr4-python3-runtime: filename=antlr4_python3_runtime-4.9.3-py3-none-any.whl size=144575 sha256=a4945efb35d0eeffff68d748f7a0b3239f714448d643debc2ce48f3fb0b1c44a\n",
            "  Stored in directory: /root/.cache/pip/wheels/b1/a3/c2/6df046c09459b73cc9bb6c4401b0be6c47048baf9a1617c485\n",
            "  Building wheel for configobj (setup.py) ... \u001b[?25l\u001b[?25hdone\n",
            "  Created wheel for configobj: filename=configobj-5.0.6-py3-none-any.whl size=34547 sha256=7074ec10dec01fc7cb699705713a9810f593febab7ccc7fb2278c72b793daaf1\n",
            "  Stored in directory: /root/.cache/pip/wheels/34/2a/24/a490264ae9041fd48f778ff393526572c80bb498ddecb07ea5\n",
            "  Building wheel for ffmpy (setup.py) ... \u001b[?25l\u001b[?25hdone\n",
            "  Created wheel for ffmpy: filename=ffmpy-0.3.0-py3-none-any.whl size=4711 sha256=2ce1441b0d053dddf3e6964f53cc93b77549222e9c734a37ad04b861f0abb7c6\n",
            "  Stored in directory: /root/.cache/pip/wheels/ff/5b/59/913b443e7369dc04b61f607a746b6f7d83fb65e2e19fcc958d\n",
            "  Building wheel for pathtools (setup.py) ... \u001b[?25l\u001b[?25hdone\n",
            "  Created wheel for pathtools: filename=pathtools-0.1.2-py3-none-any.whl size=8806 sha256=0f40658cb1b296b34c46516f7898274fdc1248484df3f52dd4fc4971c27a75a7\n",
            "  Stored in directory: /root/.cache/pip/wheels/4c/8e/7e/72fbc243e1aeecae64a96875432e70d4e92f3d2d18123be004\n",
            "  Building wheel for python-multipart (setup.py) ... \u001b[?25l\u001b[?25hdone\n",
            "  Created wheel for python-multipart: filename=python_multipart-0.0.5-py3-none-any.whl size=31678 sha256=de64fe82d2af707d84add352e6c232c6d37d792cff3fa33dd79c852616d58fb9\n",
            "  Stored in directory: /root/.cache/pip/wheels/9e/fc/1c/cf980e6413d3ee8e70cd8f39e2366b0f487e3e221aeb452eb0\n",
            "Successfully built antlr4-python3-runtime configobj ffmpy pathtools python-multipart\n",
            "Installing collected packages: urllib3, sniffio, mdurl, uc-micro-py, smmap, rfc3986, markdown-it-py, h11, fonttools, contourpy, anyio, torch, starlette, pynacl, mdit-py-plugins, matplotlib, linkify-it-py, httpcore, gitdb, everett, cryptography, configobj, bcrypt, wurlitzer, websockets, websocket-client, uvicorn, torchvision, torchmetrics, simplejson, shortuuid, setproctitle, sentry-sdk, semantic-version, requests-toolbelt, python-multipart, pydub, pyDeprecate, pycryptodome, pathtools, paramiko, orjson, jsonargparse, httpx, GitPython, ffmpy, fastapi, dulwich, docstring-parser, docker-pycreds, antlr4-python3-runtime, wandb, torchtext, timm, pytorch-lightning, omegaconf, kornia, gradio, einops, comet-ml, anomalib\n",
            "  Attempting uninstall: urllib3\n",
            "    Found existing installation: urllib3 1.24.3\n",
            "    Uninstalling urllib3-1.24.3:\n",
            "      Successfully uninstalled urllib3-1.24.3\n",
            "  Attempting uninstall: torch\n",
            "    Found existing installation: torch 1.12.1+cu113\n",
            "    Uninstalling torch-1.12.1+cu113:\n",
            "      Successfully uninstalled torch-1.12.1+cu113\n",
            "  Attempting uninstall: matplotlib\n",
            "    Found existing installation: matplotlib 3.2.2\n",
            "    Uninstalling matplotlib-3.2.2:\n",
            "      Successfully uninstalled matplotlib-3.2.2\n",
            "  Attempting uninstall: torchvision\n",
            "    Found existing installation: torchvision 0.13.1+cu113\n",
            "    Uninstalling torchvision-0.13.1+cu113:\n",
            "      Successfully uninstalled torchvision-0.13.1+cu113\n",
            "  Attempting uninstall: torchtext\n",
            "    Found existing installation: torchtext 0.13.1\n",
            "    Uninstalling torchtext-0.13.1:\n",
            "      Successfully uninstalled torchtext-0.13.1\n",
            "\u001b[31mERROR: pip's dependency resolver does not currently take into account all the packages that are installed. This behaviour is the source of the following dependency conflicts.\n",
            "torchaudio 0.12.1+cu113 requires torch==1.12.1, but you have torch 1.12.0 which is incompatible.\u001b[0m\n",
            "Successfully installed GitPython-3.1.29 anomalib-0.3.7 antlr4-python3-runtime-4.9.3 anyio-3.6.2 bcrypt-4.0.1 comet-ml-3.31.19 configobj-5.0.6 contourpy-1.0.6 cryptography-38.0.4 docker-pycreds-0.4.0 docstring-parser-0.15 dulwich-0.20.50 einops-0.6.0 everett-3.1.0 fastapi-0.88.0 ffmpy-0.3.0 fonttools-4.38.0 gitdb-4.0.10 gradio-3.12.0 h11-0.12.0 httpcore-0.15.0 httpx-0.23.1 jsonargparse-4.18.0 kornia-0.6.8 linkify-it-py-1.0.3 markdown-it-py-2.1.0 matplotlib-3.6.2 mdit-py-plugins-0.3.3 mdurl-0.1.2 omegaconf-2.2.3 orjson-3.8.3 paramiko-2.12.0 pathtools-0.1.2 pyDeprecate-0.3.2 pycryptodome-3.16.0 pydub-0.25.1 pynacl-1.5.0 python-multipart-0.0.5 pytorch-lightning-1.6.5 requests-toolbelt-0.10.1 rfc3986-1.5.0 semantic-version-2.10.0 sentry-sdk-1.9.0 setproctitle-1.3.2 shortuuid-1.0.11 simplejson-3.18.0 smmap-5.0.0 sniffio-1.3.0 starlette-0.22.0 timm-0.5.4 torch-1.12.0 torchmetrics-0.9.3 torchtext-0.13.0 torchvision-0.13.0 uc-micro-py-1.0.1 urllib3-1.25.11 uvicorn-0.20.0 wandb-0.12.17 websocket-client-1.3.3 websockets-10.4 wurlitzer-3.0.3\n"
          ]
        },
        {
          "output_type": "display_data",
          "data": {
            "application/vnd.colab-display-data+json": {
              "pip_warning": {
                "packages": [
                  "matplotlib",
                  "mpl_toolkits",
                  "pydevd_plugins"
                ]
              }
            }
          },
          "metadata": {}
        }
      ],
      "source": [
        "!pip install anomalib"
      ]
    },
    {
      "cell_type": "code",
      "execution_count": 4,
      "metadata": {
        "colab": {
          "base_uri": "https://localhost:8080/"
        },
        "id": "9YS4BBHlVLmh",
        "outputId": "c6afcfb1-f4b7-4677-9cdb-7bb1e979b577"
      },
      "outputs": [
        {
          "output_type": "stream",
          "name": "stdout",
          "text": [
            "anomalib  Anomaly_detection_with_mvtech_dataset.ipynb\n"
          ]
        }
      ],
      "source": [
        "!ls"
      ]
    },
    {
      "cell_type": "code",
      "execution_count": 5,
      "metadata": {
        "colab": {
          "base_uri": "https://localhost:8080/"
        },
        "id": "au4mdAPRVPAq",
        "outputId": "b8832ab1-13be-4f10-fcd5-25b19724ea17"
      },
      "outputs": [
        {
          "output_type": "stream",
          "name": "stdout",
          "text": [
            "/content/drive/MyDrive/Github/anomaly-detection/anomalib\n"
          ]
        }
      ],
      "source": [
        "%cd anomalib"
      ]
    },
    {
      "cell_type": "code",
      "execution_count": 6,
      "metadata": {
        "colab": {
          "base_uri": "https://localhost:8080/"
        },
        "id": "QDIKWluRVSVE",
        "outputId": "1b609244-bf5e-4674-92dc-088c8e742850"
      },
      "outputs": [
        {
          "output_type": "stream",
          "name": "stdout",
          "text": [
            "anomalib\t    datasets\t    README.md\t  third-party-programs.txt\n",
            "CHANGELOG.md\t    docs\t    requirements  tools\n",
            "CITATION.cff\t    LICENSE\t    results\t  tox.ini\n",
            "CODE_OF_CONDUCT.md  MANIFEST.in     setup.py\n",
            "configs\t\t    notebooks\t    test_result\n",
            "CONTRIBUTING.md     pyproject.toml  tests\n"
          ]
        }
      ],
      "source": [
        "!ls"
      ]
    },
    {
      "cell_type": "code",
      "execution_count": 7,
      "metadata": {
        "colab": {
          "base_uri": "https://localhost:8080/"
        },
        "id": "FoQhsU30VVDb",
        "outputId": "94b1939c-b89c-4132-a852-dbf113d7fb1c"
      },
      "outputs": [
        {
          "output_type": "stream",
          "name": "stdout",
          "text": [
            "/content/drive/MyDrive/Github/anomaly-detection/anomalib/requirements\n"
          ]
        }
      ],
      "source": [
        "%cd requirements"
      ]
    },
    {
      "cell_type": "code",
      "source": [
        "!ls"
      ],
      "metadata": {
        "colab": {
          "base_uri": "https://localhost:8080/"
        },
        "id": "EaR3RHfaULqf",
        "outputId": "666ffcfe-05d9-472b-a105-55150642e338"
      },
      "execution_count": 8,
      "outputs": [
        {
          "output_type": "stream",
          "name": "stdout",
          "text": [
            "base.txt  dev.txt  docs.txt  openvino.txt  test_result\n"
          ]
        }
      ]
    },
    {
      "cell_type": "code",
      "execution_count": 9,
      "metadata": {
        "colab": {
          "base_uri": "https://localhost:8080/",
          "height": 1000
        },
        "id": "2te8ZUuPVZD4",
        "outputId": "2f5a637d-570b-4a5d-92d2-cdd4bd4f15f5"
      },
      "outputs": [
        {
          "output_type": "stream",
          "name": "stdout",
          "text": [
            "Looking in indexes: https://pypi.org/simple, https://us-python.pkg.dev/colab-wheels/public/simple/\n",
            "Requirement already satisfied: defusedxml==0.7.1 in /usr/local/lib/python3.8/dist-packages (from -r openvino.txt (line 1)) (0.7.1)\n",
            "Collecting requests==2.26.0\n",
            "  Downloading requests-2.26.0-py2.py3-none-any.whl (62 kB)\n",
            "\u001b[K     |████████████████████████████████| 62 kB 942 kB/s \n",
            "\u001b[?25hRequirement already satisfied: networkx~=2.5 in /usr/local/lib/python3.8/dist-packages (from -r openvino.txt (line 3)) (2.6.3)\n",
            "Collecting nncf==2.1.0\n",
            "  Downloading nncf-2.1.0-py3-none-any.whl (594 kB)\n",
            "\u001b[K     |████████████████████████████████| 594 kB 14.3 MB/s \n",
            "\u001b[?25hCollecting onnx==1.10.1\n",
            "  Downloading onnx-1.10.1-cp38-cp38-manylinux_2_12_x86_64.manylinux2010_x86_64.whl (12.3 MB)\n",
            "\u001b[K     |████████████████████████████████| 12.3 MB 59.0 MB/s \n",
            "\u001b[?25hCollecting openvino-dev==2022.1.0\n",
            "  Downloading openvino_dev-2022.1.0-7019-py3-none-any.whl (5.8 MB)\n",
            "\u001b[K     |████████████████████████████████| 5.8 MB 48.6 MB/s \n",
            "\u001b[?25hRequirement already satisfied: idna<4,>=2.5 in /usr/local/lib/python3.8/dist-packages (from requests==2.26.0->-r openvino.txt (line 2)) (2.10)\n",
            "Requirement already satisfied: urllib3<1.27,>=1.21.1 in /usr/local/lib/python3.8/dist-packages (from requests==2.26.0->-r openvino.txt (line 2)) (1.25.11)\n",
            "Collecting charset-normalizer~=2.0.0\n",
            "  Downloading charset_normalizer-2.0.12-py3-none-any.whl (39 kB)\n",
            "Requirement already satisfied: certifi>=2017.4.17 in /usr/local/lib/python3.8/dist-packages (from requests==2.26.0->-r openvino.txt (line 2)) (2022.9.24)\n",
            "Collecting natsort>=7.1.0\n",
            "  Downloading natsort-8.2.0-py3-none-any.whl (37 kB)\n",
            "Requirement already satisfied: matplotlib>=3.3.4 in /usr/local/lib/python3.8/dist-packages (from nncf==2.1.0->-r openvino.txt (line 4)) (3.6.2)\n",
            "Requirement already satisfied: pandas<1.4.0rc0,>=1.1.5 in /usr/local/lib/python3.8/dist-packages (from nncf==2.1.0->-r openvino.txt (line 4)) (1.3.5)\n",
            "Collecting pyparsing<3.0\n",
            "  Downloading pyparsing-2.4.7-py2.py3-none-any.whl (67 kB)\n",
            "\u001b[K     |████████████████████████████████| 67 kB 7.4 MB/s \n",
            "\u001b[?25hCollecting addict>=2.4.0\n",
            "  Downloading addict-2.4.0-py3-none-any.whl (3.8 kB)\n",
            "Collecting ninja>=1.10.0.post2\n",
            "  Downloading ninja-1.11.1-py2.py3-none-manylinux_2_12_x86_64.manylinux2010_x86_64.whl (145 kB)\n",
            "\u001b[K     |████████████████████████████████| 145 kB 81.7 MB/s \n",
            "\u001b[?25hRequirement already satisfied: scikit-learn>=0.24.0 in /usr/local/lib/python3.8/dist-packages (from nncf==2.1.0->-r openvino.txt (line 4)) (1.0.2)\n",
            "Collecting texttable>=1.6.3\n",
            "  Downloading texttable-1.6.7-py2.py3-none-any.whl (10 kB)\n",
            "Requirement already satisfied: tqdm>=4.54.1 in /usr/local/lib/python3.8/dist-packages (from nncf==2.1.0->-r openvino.txt (line 4)) (4.64.1)\n",
            "Requirement already satisfied: wheel>=0.36.1 in /usr/local/lib/python3.8/dist-packages (from nncf==2.1.0->-r openvino.txt (line 4)) (0.38.4)\n",
            "Collecting pydot>=1.4.1\n",
            "  Downloading pydot-1.4.2-py2.py3-none-any.whl (21 kB)\n",
            "Collecting jstyleson>=0.0.2\n",
            "  Downloading jstyleson-0.0.2.tar.gz (2.0 kB)\n",
            "Collecting jsonschema==3.2.0\n",
            "  Downloading jsonschema-3.2.0-py2.py3-none-any.whl (56 kB)\n",
            "\u001b[K     |████████████████████████████████| 56 kB 5.1 MB/s \n",
            "\u001b[?25hCollecting numpy~=1.19.2\n",
            "  Downloading numpy-1.19.5-cp38-cp38-manylinux2010_x86_64.whl (14.9 MB)\n",
            "\u001b[K     |████████████████████████████████| 14.9 MB 45.0 MB/s \n",
            "\u001b[?25hRequirement already satisfied: scipy<1.8,>=1.3.2 in /usr/local/lib/python3.8/dist-packages (from nncf==2.1.0->-r openvino.txt (line 4)) (1.7.3)\n",
            "Requirement already satisfied: six in /usr/local/lib/python3.8/dist-packages (from onnx==1.10.1->-r openvino.txt (line 5)) (1.15.0)\n",
            "Requirement already satisfied: typing-extensions>=3.6.2.1 in /usr/local/lib/python3.8/dist-packages (from onnx==1.10.1->-r openvino.txt (line 5)) (4.1.1)\n",
            "Requirement already satisfied: protobuf in /usr/local/lib/python3.8/dist-packages (from onnx==1.10.1->-r openvino.txt (line 5)) (3.19.6)\n",
            "Collecting py-cpuinfo>=7.0.0\n",
            "  Downloading py_cpuinfo-9.0.0-py3-none-any.whl (22 kB)\n",
            "Collecting pandas<1.4.0rc0,>=1.1.5\n",
            "  Downloading pandas-1.1.5-cp38-cp38-manylinux1_x86_64.whl (9.3 MB)\n",
            "\u001b[K     |████████████████████████████████| 9.3 MB 51.7 MB/s \n",
            "\u001b[?25hCollecting openvino-telemetry>=2022.1.0\n",
            "  Downloading openvino_telemetry-2022.1.2-py3-none-any.whl (20 kB)\n",
            "Collecting pillow>=8.1.2\n",
            "  Downloading Pillow-9.3.0-cp38-cp38-manylinux_2_17_x86_64.manylinux2014_x86_64.whl (3.2 MB)\n",
            "\u001b[K     |████████████████████████████████| 3.2 MB 51.8 MB/s \n",
            "\u001b[?25hCollecting pyclipper>=1.2.1\n",
            "  Downloading pyclipper-1.3.0.post4-cp38-cp38-manylinux_2_5_x86_64.manylinux1_x86_64.whl (619 kB)\n",
            "\u001b[K     |████████████████████████████████| 619 kB 67.5 MB/s \n",
            "\u001b[?25hCollecting progress>=1.5\n",
            "  Downloading progress-1.6.tar.gz (7.8 kB)\n",
            "Requirement already satisfied: nltk>=3.5 in /usr/local/lib/python3.8/dist-packages (from openvino-dev==2022.1.0->-r openvino.txt (line 6)) (3.7)\n",
            "Collecting scipy<1.8,>=1.3.2\n",
            "  Downloading scipy-1.5.4-cp38-cp38-manylinux1_x86_64.whl (25.8 MB)\n",
            "\u001b[K     |████████████████████████████████| 25.8 MB 14.3 MB/s \n",
            "\u001b[?25hCollecting pydicom>=2.1.2\n",
            "  Downloading pydicom-2.3.1-py3-none-any.whl (2.0 MB)\n",
            "\u001b[K     |████████████████████████████████| 2.0 MB 49.0 MB/s \n",
            "\u001b[?25hCollecting lmdb>=1.2.1\n",
            "  Downloading lmdb-1.4.0-cp38-cp38-manylinux_2_12_x86_64.manylinux2010_x86_64.whl (306 kB)\n",
            "\u001b[K     |████████████████████████████████| 306 kB 78.1 MB/s \n",
            "\u001b[?25hCollecting opencv-python==4.5.*\n",
            "  Downloading opencv_python-4.5.5.64-cp36-abi3-manylinux_2_17_x86_64.manylinux2014_x86_64.whl (60.5 MB)\n",
            "\u001b[K     |████████████████████████████████| 60.5 MB 1.2 MB/s \n",
            "\u001b[?25hCollecting tokenizers~=0.10.1\n",
            "  Downloading tokenizers-0.10.3-cp38-cp38-manylinux_2_5_x86_64.manylinux1_x86_64.manylinux_2_12_x86_64.manylinux2010_x86_64.whl (3.3 MB)\n",
            "\u001b[K     |████████████████████████████████| 3.3 MB 61.3 MB/s \n",
            "\u001b[?25hCollecting nibabel>=3.2.1\n",
            "  Downloading nibabel-4.0.2-py3-none-any.whl (3.3 MB)\n",
            "\u001b[K     |████████████████████████████████| 3.3 MB 59.3 MB/s \n",
            "\u001b[?25hRequirement already satisfied: shapely>=1.7.1 in /usr/local/lib/python3.8/dist-packages (from openvino-dev==2022.1.0->-r openvino.txt (line 6)) (1.8.5.post1)\n",
            "Collecting rawpy>=0.16.0\n",
            "  Downloading rawpy-0.17.3-cp38-cp38-manylinux_2_17_x86_64.manylinux2014_x86_64.whl (1.9 MB)\n",
            "\u001b[K     |████████████████████████████████| 1.9 MB 59.0 MB/s \n",
            "\u001b[?25hCollecting fast-ctc-decode>=0.2.5\n",
            "  Downloading fast_ctc_decode-0.3.2-cp38-cp38-manylinux_2_5_x86_64.manylinux1_x86_64.manylinux_2_12_x86_64.manylinux2010_x86_64.whl (517 kB)\n",
            "\u001b[K     |████████████████████████████████| 517 kB 74.0 MB/s \n",
            "\u001b[?25hCollecting imagecodecs\n",
            "  Downloading imagecodecs-2022.9.26-cp38-cp38-manylinux_2_17_x86_64.manylinux2014_x86_64.whl (35.1 MB)\n",
            "\u001b[K     |████████████████████████████████| 35.1 MB 1.2 MB/s \n",
            "\u001b[?25hRequirement already satisfied: pyyaml>=5.4.1 in /usr/local/lib/python3.8/dist-packages (from openvino-dev==2022.1.0->-r openvino.txt (line 6)) (6.0)\n",
            "Collecting parasail>=1.2.4\n",
            "  Downloading parasail-1.3.3-py2.py3-none-manylinux_2_17_x86_64.manylinux2014_x86_64.whl (15.6 MB)\n",
            "\u001b[K     |████████████████████████████████| 15.6 MB 55.6 MB/s \n",
            "\u001b[?25hCollecting sentencepiece>=0.1.95\n",
            "  Downloading sentencepiece-0.1.97-cp38-cp38-manylinux_2_17_x86_64.manylinux2014_x86_64.whl (1.3 MB)\n",
            "\u001b[K     |████████████████████████████████| 1.3 MB 66.1 MB/s \n",
            "\u001b[?25hCollecting transformers>=4.5\n",
            "  Downloading transformers-4.25.1-py3-none-any.whl (5.8 MB)\n",
            "\u001b[K     |████████████████████████████████| 5.8 MB 53.2 MB/s \n",
            "\u001b[?25hRequirement already satisfied: scikit-image>=0.17.2 in /usr/local/lib/python3.8/dist-packages (from openvino-dev==2022.1.0->-r openvino.txt (line 6)) (0.18.3)\n",
            "Collecting openvino==2022.1.0\n",
            "  Downloading openvino-2022.1.0-7019-cp38-cp38-manylinux_2_27_x86_64.whl (26.1 MB)\n",
            "\u001b[K     |████████████████████████████████| 26.1 MB 1.3 MB/s \n",
            "\u001b[?25hCollecting scikit-learn>=0.24.0\n",
            "  Downloading scikit_learn-0.24.2-cp38-cp38-manylinux2010_x86_64.whl (24.9 MB)\n",
            "\u001b[K     |████████████████████████████████| 24.9 MB 1.2 MB/s \n",
            "\u001b[?25hRequirement already satisfied: setuptools in /usr/local/lib/python3.8/dist-packages (from jsonschema==3.2.0->nncf==2.1.0->-r openvino.txt (line 4)) (57.4.0)\n",
            "Requirement already satisfied: attrs>=17.4.0 in /usr/local/lib/python3.8/dist-packages (from jsonschema==3.2.0->nncf==2.1.0->-r openvino.txt (line 4)) (22.1.0)\n",
            "Requirement already satisfied: pyrsistent>=0.14.0 in /usr/local/lib/python3.8/dist-packages (from jsonschema==3.2.0->nncf==2.1.0->-r openvino.txt (line 4)) (0.19.2)\n",
            "Requirement already satisfied: python-dateutil>=2.7 in /usr/local/lib/python3.8/dist-packages (from matplotlib>=3.3.4->nncf==2.1.0->-r openvino.txt (line 4)) (2.8.2)\n",
            "Requirement already satisfied: kiwisolver>=1.0.1 in /usr/local/lib/python3.8/dist-packages (from matplotlib>=3.3.4->nncf==2.1.0->-r openvino.txt (line 4)) (1.4.4)\n",
            "Requirement already satisfied: contourpy>=1.0.1 in /usr/local/lib/python3.8/dist-packages (from matplotlib>=3.3.4->nncf==2.1.0->-r openvino.txt (line 4)) (1.0.6)\n",
            "Requirement already satisfied: cycler>=0.10 in /usr/local/lib/python3.8/dist-packages (from matplotlib>=3.3.4->nncf==2.1.0->-r openvino.txt (line 4)) (0.11.0)\n",
            "Requirement already satisfied: fonttools>=4.22.0 in /usr/local/lib/python3.8/dist-packages (from matplotlib>=3.3.4->nncf==2.1.0->-r openvino.txt (line 4)) (4.38.0)\n",
            "Requirement already satisfied: packaging>=20.0 in /usr/local/lib/python3.8/dist-packages (from matplotlib>=3.3.4->nncf==2.1.0->-r openvino.txt (line 4)) (21.3)\n",
            "Requirement already satisfied: click in /usr/local/lib/python3.8/dist-packages (from nltk>=3.5->openvino-dev==2022.1.0->-r openvino.txt (line 6)) (7.1.2)\n",
            "Requirement already satisfied: regex>=2021.8.3 in /usr/local/lib/python3.8/dist-packages (from nltk>=3.5->openvino-dev==2022.1.0->-r openvino.txt (line 6)) (2022.6.2)\n",
            "Requirement already satisfied: joblib in /usr/local/lib/python3.8/dist-packages (from nltk>=3.5->openvino-dev==2022.1.0->-r openvino.txt (line 6)) (1.2.0)\n",
            "Requirement already satisfied: pytz>=2017.2 in /usr/local/lib/python3.8/dist-packages (from pandas<1.4.0rc0,>=1.1.5->nncf==2.1.0->-r openvino.txt (line 4)) (2022.6)\n",
            "Requirement already satisfied: imageio>=2.3.0 in /usr/local/lib/python3.8/dist-packages (from scikit-image>=0.17.2->openvino-dev==2022.1.0->-r openvino.txt (line 6)) (2.9.0)\n",
            "Requirement already satisfied: PyWavelets>=1.1.1 in /usr/local/lib/python3.8/dist-packages (from scikit-image>=0.17.2->openvino-dev==2022.1.0->-r openvino.txt (line 6)) (1.3.0)\n",
            "Requirement already satisfied: tifffile>=2019.7.26 in /usr/local/lib/python3.8/dist-packages (from scikit-image>=0.17.2->openvino-dev==2022.1.0->-r openvino.txt (line 6)) (2021.11.2)\n",
            "Requirement already satisfied: threadpoolctl>=2.0.0 in /usr/local/lib/python3.8/dist-packages (from scikit-learn>=0.24.0->nncf==2.1.0->-r openvino.txt (line 4)) (3.1.0)\n",
            "Requirement already satisfied: filelock in /usr/local/lib/python3.8/dist-packages (from transformers>=4.5->openvino-dev==2022.1.0->-r openvino.txt (line 6)) (3.8.0)\n",
            "Collecting huggingface-hub<1.0,>=0.10.0\n",
            "  Downloading huggingface_hub-0.11.1-py3-none-any.whl (182 kB)\n",
            "\u001b[K     |████████████████████████████████| 182 kB 80.8 MB/s \n",
            "\u001b[?25hCollecting transformers>=4.5\n",
            "  Downloading transformers-4.24.0-py3-none-any.whl (5.5 MB)\n",
            "\u001b[K     |████████████████████████████████| 5.5 MB 53.2 MB/s \n",
            "\u001b[?25h  Downloading transformers-4.23.1-py3-none-any.whl (5.3 MB)\n",
            "\u001b[K     |████████████████████████████████| 5.3 MB 52.7 MB/s \n",
            "\u001b[?25h  Downloading transformers-4.23.0-py3-none-any.whl (5.3 MB)\n",
            "\u001b[K     |████████████████████████████████| 5.3 MB 48.6 MB/s \n",
            "\u001b[?25h  Downloading transformers-4.22.2-py3-none-any.whl (4.9 MB)\n",
            "\u001b[K     |████████████████████████████████| 4.9 MB 59.6 MB/s \n",
            "\u001b[?25h  Downloading transformers-4.22.1-py3-none-any.whl (4.9 MB)\n",
            "\u001b[K     |████████████████████████████████| 4.9 MB 58.8 MB/s \n",
            "\u001b[?25h  Downloading transformers-4.22.0-py3-none-any.whl (4.9 MB)\n",
            "\u001b[K     |████████████████████████████████| 4.9 MB 58.6 MB/s \n",
            "\u001b[?25h  Downloading transformers-4.21.3-py3-none-any.whl (4.7 MB)\n",
            "\u001b[K     |████████████████████████████████| 4.7 MB 53.6 MB/s \n",
            "\u001b[?25h  Downloading transformers-4.21.2-py3-none-any.whl (4.7 MB)\n",
            "\u001b[K     |████████████████████████████████| 4.7 MB 54.7 MB/s \n",
            "\u001b[?25h  Downloading transformers-4.21.1-py3-none-any.whl (4.7 MB)\n",
            "\u001b[K     |████████████████████████████████| 4.7 MB 57.7 MB/s \n",
            "\u001b[?25h  Downloading transformers-4.21.0-py3-none-any.whl (4.7 MB)\n",
            "\u001b[K     |████████████████████████████████| 4.7 MB 46.7 MB/s \n",
            "\u001b[?25h  Downloading transformers-4.20.1-py3-none-any.whl (4.4 MB)\n",
            "\u001b[K     |████████████████████████████████| 4.4 MB 62.4 MB/s \n",
            "\u001b[?25h  Downloading transformers-4.20.0-py3-none-any.whl (4.4 MB)\n",
            "\u001b[K     |████████████████████████████████| 4.4 MB 51.2 MB/s \n",
            "\u001b[?25h  Downloading transformers-4.19.4-py3-none-any.whl (4.2 MB)\n",
            "\u001b[K     |████████████████████████████████| 4.2 MB 48.7 MB/s \n",
            "\u001b[?25h  Downloading transformers-4.19.3-py3-none-any.whl (4.2 MB)\n",
            "\u001b[K     |████████████████████████████████| 4.2 MB 57.9 MB/s \n",
            "\u001b[?25h  Downloading transformers-4.19.2-py3-none-any.whl (4.2 MB)\n",
            "\u001b[K     |████████████████████████████████| 4.2 MB 45.9 MB/s \n",
            "\u001b[?25h  Downloading transformers-4.19.1-py3-none-any.whl (4.2 MB)\n",
            "\u001b[K     |████████████████████████████████| 4.2 MB 61.8 MB/s \n",
            "\u001b[?25h  Downloading transformers-4.19.0-py3-none-any.whl (4.2 MB)\n",
            "\u001b[K     |████████████████████████████████| 4.2 MB 51.9 MB/s \n",
            "\u001b[?25h  Downloading transformers-4.18.0-py3-none-any.whl (4.0 MB)\n",
            "\u001b[K     |████████████████████████████████| 4.0 MB 51.6 MB/s \n",
            "\u001b[?25h  Downloading transformers-4.17.0-py3-none-any.whl (3.8 MB)\n",
            "\u001b[K     |████████████████████████████████| 3.8 MB 61.0 MB/s \n",
            "\u001b[?25h  Downloading transformers-4.16.2-py3-none-any.whl (3.5 MB)\n",
            "\u001b[K     |████████████████████████████████| 3.5 MB 57.6 MB/s \n",
            "\u001b[?25hCollecting sacremoses\n",
            "  Downloading sacremoses-0.0.53.tar.gz (880 kB)\n",
            "\u001b[K     |████████████████████████████████| 880 kB 75.7 MB/s \n",
            "\u001b[?25hBuilding wheels for collected packages: jstyleson, progress, sacremoses\n",
            "  Building wheel for jstyleson (setup.py) ... \u001b[?25l\u001b[?25hdone\n",
            "  Created wheel for jstyleson: filename=jstyleson-0.0.2-py3-none-any.whl size=2401 sha256=faead7551a8c70ce810c027a9ad05d18a5f0c1369880287a02b129adc51b8c8f\n",
            "  Stored in directory: /root/.cache/pip/wheels/c6/3a/8e/dad087c08bb0e4c94d03433ccc0972ee29707dff8e6c5f5e1b\n",
            "  Building wheel for progress (setup.py) ... \u001b[?25l\u001b[?25hdone\n",
            "  Created wheel for progress: filename=progress-1.6-py3-none-any.whl size=9630 sha256=ea852a4080d1575e0f254d1722f962efabc6dd02f77c662f0fe493e84f3d589b\n",
            "  Stored in directory: /root/.cache/pip/wheels/bb/01/5a/c916509df9b12c6465864251dbe826def8e31a16fa7da54f08\n",
            "  Building wheel for sacremoses (setup.py) ... \u001b[?25l\u001b[?25hdone\n",
            "  Created wheel for sacremoses: filename=sacremoses-0.0.53-py3-none-any.whl size=895260 sha256=c767d9b0465f7804a3822decfbcbabfa52f96e0d85fb9e058959bfe00470c654\n",
            "  Stored in directory: /root/.cache/pip/wheels/82/ab/9b/c15899bf659ba74f623ac776e861cf2eb8608c1825ddec66a4\n",
            "Successfully built jstyleson progress sacremoses\n",
            "Installing collected packages: pyparsing, numpy, charset-normalizer, requests, pillow, tokenizers, scipy, sacremoses, huggingface-hub, transformers, texttable, sentencepiece, scikit-learn, rawpy, pydot, pydicom, pyclipper, py-cpuinfo, progress, parasail, pandas, openvino-telemetry, openvino, opencv-python, ninja, nibabel, natsort, lmdb, jstyleson, jsonschema, imagecodecs, fast-ctc-decode, addict, openvino-dev, onnx, nncf\n",
            "  Attempting uninstall: pyparsing\n",
            "    Found existing installation: pyparsing 3.0.9\n",
            "    Uninstalling pyparsing-3.0.9:\n",
            "      Successfully uninstalled pyparsing-3.0.9\n",
            "  Attempting uninstall: numpy\n",
            "    Found existing installation: numpy 1.21.6\n",
            "    Uninstalling numpy-1.21.6:\n",
            "      Successfully uninstalled numpy-1.21.6\n",
            "  Attempting uninstall: charset-normalizer\n",
            "    Found existing installation: charset-normalizer 2.1.1\n",
            "    Uninstalling charset-normalizer-2.1.1:\n",
            "      Successfully uninstalled charset-normalizer-2.1.1\n",
            "  Attempting uninstall: requests\n",
            "    Found existing installation: requests 2.23.0\n",
            "    Uninstalling requests-2.23.0:\n",
            "      Successfully uninstalled requests-2.23.0\n",
            "  Attempting uninstall: pillow\n",
            "    Found existing installation: Pillow 7.1.2\n",
            "    Uninstalling Pillow-7.1.2:\n",
            "      Successfully uninstalled Pillow-7.1.2\n",
            "  Attempting uninstall: scipy\n",
            "    Found existing installation: scipy 1.7.3\n",
            "    Uninstalling scipy-1.7.3:\n",
            "      Successfully uninstalled scipy-1.7.3\n",
            "  Attempting uninstall: scikit-learn\n",
            "    Found existing installation: scikit-learn 1.0.2\n",
            "    Uninstalling scikit-learn-1.0.2:\n",
            "      Successfully uninstalled scikit-learn-1.0.2\n",
            "  Attempting uninstall: pydot\n",
            "    Found existing installation: pydot 1.3.0\n",
            "    Uninstalling pydot-1.3.0:\n",
            "      Successfully uninstalled pydot-1.3.0\n",
            "  Attempting uninstall: pandas\n",
            "    Found existing installation: pandas 1.3.5\n",
            "    Uninstalling pandas-1.3.5:\n",
            "      Successfully uninstalled pandas-1.3.5\n",
            "  Attempting uninstall: opencv-python\n",
            "    Found existing installation: opencv-python 4.6.0.66\n",
            "    Uninstalling opencv-python-4.6.0.66:\n",
            "      Successfully uninstalled opencv-python-4.6.0.66\n",
            "  Attempting uninstall: nibabel\n",
            "    Found existing installation: nibabel 3.0.2\n",
            "    Uninstalling nibabel-3.0.2:\n",
            "      Successfully uninstalled nibabel-3.0.2\n",
            "  Attempting uninstall: natsort\n",
            "    Found existing installation: natsort 5.5.0\n",
            "    Uninstalling natsort-5.5.0:\n",
            "      Successfully uninstalled natsort-5.5.0\n",
            "  Attempting uninstall: lmdb\n",
            "    Found existing installation: lmdb 0.99\n",
            "    Uninstalling lmdb-0.99:\n",
            "      Successfully uninstalled lmdb-0.99\n",
            "  Attempting uninstall: jsonschema\n",
            "    Found existing installation: jsonschema 4.3.3\n",
            "    Uninstalling jsonschema-4.3.3:\n",
            "      Successfully uninstalled jsonschema-4.3.3\n",
            "\u001b[31mERROR: pip's dependency resolver does not currently take into account all the packages that are installed. This behaviour is the source of the following dependency conflicts.\n",
            "yellowbrick 1.5 requires scikit-learn>=1.0.0, but you have scikit-learn 0.24.2 which is incompatible.\n",
            "xarray-einstats 0.2.2 requires numpy>=1.21, but you have numpy 1.19.5 which is incompatible.\n",
            "tensorflow 2.9.2 requires numpy>=1.20, but you have numpy 1.19.5 which is incompatible.\n",
            "jaxlib 0.3.25+cuda11.cudnn805 requires numpy>=1.20, but you have numpy 1.19.5 which is incompatible.\n",
            "jax 0.3.25 requires numpy>=1.20, but you have numpy 1.19.5 which is incompatible.\n",
            "cupy-cuda11x 11.0.0 requires numpy<1.26,>=1.20, but you have numpy 1.19.5 which is incompatible.\n",
            "cmdstanpy 1.0.8 requires numpy>=1.21, but you have numpy 1.19.5 which is incompatible.\u001b[0m\n",
            "Successfully installed addict-2.4.0 charset-normalizer-2.0.12 fast-ctc-decode-0.3.2 huggingface-hub-0.11.1 imagecodecs-2022.9.26 jsonschema-3.2.0 jstyleson-0.0.2 lmdb-1.4.0 natsort-8.2.0 nibabel-4.0.2 ninja-1.11.1 nncf-2.1.0 numpy-1.19.5 onnx-1.10.1 opencv-python-4.5.5.64 openvino-2022.1.0 openvino-dev-2022.1.0 openvino-telemetry-2022.1.2 pandas-1.1.5 parasail-1.3.3 pillow-9.3.0 progress-1.6 py-cpuinfo-9.0.0 pyclipper-1.3.0.post4 pydicom-2.3.1 pydot-1.4.2 pyparsing-2.4.7 rawpy-0.17.3 requests-2.26.0 sacremoses-0.0.53 scikit-learn-0.24.2 scipy-1.5.4 sentencepiece-0.1.97 texttable-1.6.7 tokenizers-0.10.3 transformers-4.16.2\n"
          ]
        },
        {
          "output_type": "display_data",
          "data": {
            "application/vnd.colab-display-data+json": {
              "pip_warning": {
                "packages": [
                  "PIL",
                  "numpy",
                  "pyparsing"
                ]
              }
            }
          },
          "metadata": {}
        }
      ],
      "source": [
        "!pip install -r openvino.txt"
      ]
    },
    {
      "cell_type": "code",
      "execution_count": 10,
      "metadata": {
        "colab": {
          "base_uri": "https://localhost:8080/"
        },
        "id": "IpaFA106cvhI",
        "outputId": "ca121c26-bed6-4d54-bf47-5e887bea621c"
      },
      "outputs": [
        {
          "output_type": "stream",
          "name": "stdout",
          "text": [
            "base.txt  dev.txt  docs.txt  openvino.txt  test_result\n"
          ]
        }
      ],
      "source": [
        "!ls"
      ]
    },
    {
      "cell_type": "code",
      "source": [
        "%cd /content/drive/MyDrive/Github/anomaly-detection/anomalib"
      ],
      "metadata": {
        "colab": {
          "base_uri": "https://localhost:8080/"
        },
        "id": "SNkEPNTJV1Bh",
        "outputId": "f251658a-a0e7-416d-daa6-d1f2d9851160"
      },
      "execution_count": 11,
      "outputs": [
        {
          "output_type": "stream",
          "name": "stdout",
          "text": [
            "/content/drive/MyDrive/Github/anomaly-detection/anomalib\n"
          ]
        }
      ]
    },
    {
      "cell_type": "code",
      "execution_count": 12,
      "metadata": {
        "colab": {
          "base_uri": "https://localhost:8080/"
        },
        "id": "DuMXkb2kdD7y",
        "outputId": "b6ec300e-9f6a-41c4-81a6-fe2764e1d7ee"
      },
      "outputs": [
        {
          "output_type": "stream",
          "name": "stdout",
          "text": [
            "2022-12-07 12:07:03,362 - pytorch_lightning.utilities.seed - INFO - Global seed set to 42\n",
            "2022-12-07 12:07:03,363 - anomalib.data - INFO - Loading the datamodule\n",
            "2022-12-07 12:07:03,364 - anomalib.pre_processing.pre_process - WARNING - Transform configs has not been provided. Images will be normalized using ImageNet statistics.\n",
            "2022-12-07 12:07:03,372 - anomalib.pre_processing.pre_process - WARNING - Transform configs has not been provided. Images will be normalized using ImageNet statistics.\n",
            "2022-12-07 12:07:03,372 - anomalib.models - INFO - Loading the model.\n",
            "2022-12-07 12:07:03,386 - torch.distributed.nn.jit.instantiator - INFO - Created a temporary directory at /tmp/tmpo0zyw6qh\n",
            "2022-12-07 12:07:03,386 - torch.distributed.nn.jit.instantiator - INFO - Writing /tmp/tmpo0zyw6qh/_remote_module_non_scriptable.py\n",
            "2022-12-07 12:07:03,407 - anomalib.models.components.base.anomaly_module - INFO - Initializing PadimLightning model.\n",
            "/usr/local/lib/python3.8/dist-packages/torchmetrics/utilities/prints.py:36: UserWarning: Metric `PrecisionRecallCurve` will save all targets and predictions in buffer. For large datasets this may lead to large memory footprint.\n",
            "  warnings.warn(*args, **kwargs)\n",
            "2022-12-07 12:07:03,830 - timm.models.helpers - INFO - Loading pretrained weights from url (https://download.pytorch.org/models/resnet18-5c106cde.pth)\n",
            "Downloading: \"https://download.pytorch.org/models/resnet18-5c106cde.pth\" to /root/.cache/torch/hub/checkpoints/resnet18-5c106cde.pth\n",
            "2022-12-07 12:07:04,691 - anomalib.utils.loggers - INFO - Loading the experiment logger(s)\n",
            "2022-12-07 12:07:04,691 - anomalib.utils.callbacks - INFO - Loading the callbacks\n",
            "/usr/local/lib/python3.8/dist-packages/anomalib/utils/callbacks/__init__.py:143: UserWarning: Export option: None not found. Defaulting to no model export\n",
            "  warnings.warn(f\"Export option: {config.optimization.export_mode} not found. Defaulting to no model export\")\n",
            "2022-12-07 12:07:04,697 - pytorch_lightning.utilities.rank_zero - INFO - GPU available: True, used: True\n",
            "2022-12-07 12:07:04,697 - pytorch_lightning.utilities.rank_zero - INFO - TPU available: False, using: 0 TPU cores\n",
            "2022-12-07 12:07:04,697 - pytorch_lightning.utilities.rank_zero - INFO - IPU available: False, using: 0 IPUs\n",
            "2022-12-07 12:07:04,697 - pytorch_lightning.utilities.rank_zero - INFO - HPU available: False, using: 0 HPUs\n",
            "2022-12-07 12:07:04,698 - pytorch_lightning.utilities.rank_zero - INFO - `Trainer(limit_train_batches=1.0)` was configured so 100% of the batches per epoch will be used..\n",
            "2022-12-07 12:07:04,698 - pytorch_lightning.utilities.rank_zero - INFO - `Trainer(limit_val_batches=1.0)` was configured so 100% of the batches will be used..\n",
            "2022-12-07 12:07:04,698 - pytorch_lightning.utilities.rank_zero - INFO - `Trainer(limit_test_batches=1.0)` was configured so 100% of the batches will be used..\n",
            "2022-12-07 12:07:04,698 - pytorch_lightning.utilities.rank_zero - INFO - `Trainer(limit_predict_batches=1.0)` was configured so 100% of the batches will be used..\n",
            "2022-12-07 12:07:04,698 - pytorch_lightning.utilities.rank_zero - INFO - `Trainer(val_check_interval=1.0)` was configured so validation will run at the end of the training epoch..\n",
            "2022-12-07 12:07:04,698 - anomalib - INFO - Training the model.\n",
            "2022-12-07 12:07:04,965 - anomalib.data.mvtec - INFO - Found the dataset.\n",
            "2022-12-07 12:07:04,971 - anomalib.data.mvtec - INFO - Setting up train, validation, test and prediction datasets.\n",
            "2022-12-07 12:07:07,521 - numexpr.utils - INFO - NumExpr defaulting to 2 threads.\n",
            "/usr/local/lib/python3.8/dist-packages/torchmetrics/utilities/prints.py:36: UserWarning: Metric `ROC` will save all targets and predictions in buffer. For large datasets this may lead to large memory footprint.\n",
            "  warnings.warn(*args, **kwargs)\n",
            "/usr/local/lib/python3.8/dist-packages/pytorch_lightning/callbacks/model_checkpoint.py:611: UserWarning: Checkpoint directory /content/drive/MyDrive/Github/anomaly-detection/anomalib/results/padim/mvtec/bottle/weights exists and is not empty.\n",
            "  rank_zero_warn(f\"Checkpoint directory {dirpath} exists and is not empty.\")\n",
            "2022-12-07 12:07:10,870 - pytorch_lightning.accelerators.gpu - INFO - LOCAL_RANK: 0 - CUDA_VISIBLE_DEVICES: [0]\n",
            "/usr/local/lib/python3.8/dist-packages/pytorch_lightning/core/optimizer.py:183: UserWarning: `LightningModule.configure_optimizers` returned `None`, this fit will run with no optimizer\n",
            "  rank_zero_warn(\n",
            "2022-12-07 12:07:10,873 - pytorch_lightning.callbacks.model_summary - INFO - \n",
            "  | Name                  | Type                     | Params\n",
            "-------------------------------------------------------------------\n",
            "0 | image_threshold       | AnomalyScoreThreshold    | 0     \n",
            "1 | pixel_threshold       | AnomalyScoreThreshold    | 0     \n",
            "2 | model                 | PadimModel               | 2.8 M \n",
            "3 | image_metrics         | AnomalibMetricCollection | 0     \n",
            "4 | pixel_metrics         | AnomalibMetricCollection | 0     \n",
            "5 | normalization_metrics | MinMax                   | 0     \n",
            "-------------------------------------------------------------------\n",
            "2.8 M     Trainable params\n",
            "0         Non-trainable params\n",
            "2.8 M     Total params\n",
            "11.131    Total estimated model params size (MB)\n",
            "/usr/local/lib/python3.8/dist-packages/torch/utils/data/dataloader.py:557: UserWarning: This DataLoader will create 8 worker processes in total. Our suggested max number of worker in current system is 2, which is smaller than what this DataLoader is going to create. Please be aware that excessive worker creation might get DataLoader running slow or even freeze, lower the worker number to avoid potential slowness/freeze if necessary.\n",
            "  warnings.warn(_create_warning_msg(\n",
            "Epoch 0:   0% 0/10 [00:00<?, ?it/s] /usr/local/lib/python3.8/dist-packages/pytorch_lightning/loops/optimization/optimizer_loop.py:137: UserWarning: `training_step` returned `None`. If this was on purpose, ignore this warning...\n",
            "  self.warning_cache.warn(\"`training_step` returned `None`. If this was on purpose, ignore this warning...\")\n",
            "Epoch 0:  70% 7/10 [00:11<00:05,  1.70s/it, loss=nan]\n",
            "Validation: 0it [00:00, ?it/s]\u001b[A2022-12-07 12:07:22,764 - anomalib.models.padim.lightning_model - INFO - Aggregating the embedding extracted from the training set.\n",
            "2022-12-07 12:07:22,971 - anomalib.models.padim.lightning_model - INFO - Fitting a Gaussian to the embedding collected from the training set.\n",
            "Epoch 0:  70% 7/10 [00:23<00:09,  3.29s/it, loss=nan]\n",
            "Validation:   0% 0/3 [00:00<?, ?it/s]\u001b[A\n",
            "Validation DataLoader 0:   0% 0/3 [00:00<?, ?it/s]\u001b[A\n",
            "Validation DataLoader 0:  33% 1/3 [00:00<00:00,  3.28it/s]\u001b[A\n",
            "Epoch 0:  80% 8/10 [00:40<00:10,  5.02s/it, loss=nan]\n",
            "Validation DataLoader 0:  67% 2/3 [00:00<00:00,  3.94it/s]\u001b[A\n",
            "Epoch 0:  90% 9/10 [00:40<00:04,  4.49s/it, loss=nan]\n",
            "Validation DataLoader 0: 100% 3/3 [00:00<00:00,  5.03it/s]\u001b[A\n",
            "Epoch 0: 100% 10/10 [00:41<00:00,  4.19s/it, loss=nan, pixel_F1Score=0.722, pixel_AUROC=0.983]\n",
            "Epoch 0: 100% 10/10 [00:42<00:00,  4.28s/it, loss=nan, pixel_F1Score=0.722, pixel_AUROC=0.983]\n",
            "2022-12-07 12:07:54,146 - anomalib.utils.callbacks.timer - INFO - Training took 43.28 seconds\n",
            "2022-12-07 12:07:54,147 - anomalib - INFO - Loading the best model weights.\n",
            "2022-12-07 12:07:54,147 - anomalib - INFO - Testing the model.\n",
            "2022-12-07 12:07:54,153 - anomalib.data.mvtec - INFO - Found the dataset.\n",
            "2022-12-07 12:07:54,153 - anomalib.data.mvtec - INFO - Setting up train, validation, test and prediction datasets.\n",
            "2022-12-07 12:07:54,255 - pytorch_lightning.accelerators.gpu - INFO - LOCAL_RANK: 0 - CUDA_VISIBLE_DEVICES: [0]\n",
            "2022-12-07 12:07:54,257 - anomalib.utils.callbacks.model_loader - INFO - Loading the model from /content/drive/MyDrive/Github/anomaly-detection/anomalib/results/padim/mvtec/bottle/weights/model-v2.ckpt\n",
            "Testing DataLoader 0: 100% 3/3 [00:46<00:00, 14.51s/it]2022-12-07 12:08:43,560 - anomalib.utils.callbacks.timer - INFO - Testing took 49.04247069358826 seconds\n",
            "Throughput (batch_size=32) : 1.6924106560326966 FPS\n",
            "Testing DataLoader 0: 100% 3/3 [00:47<00:00, 15.88s/it]\n",
            "────────────────────────────────────────────────────────────────────────────────────────────────────────────────────────\n",
            "       Test metric             DataLoader 0\n",
            "────────────────────────────────────────────────────────────────────────────────────────────────────────────────────────\n",
            "       image_AUROC          0.9936507940292358\n",
            "      image_F1Score         0.9763779044151306\n",
            "       pixel_AUROC          0.9830060601234436\n",
            "      pixel_F1Score         0.7220250964164734\n",
            "────────────────────────────────────────────────────────────────────────────────────────────────────────────────────────\n"
          ]
        }
      ],
      "source": [
        "!python tools/train.py --model padim"
      ]
    },
    {
      "cell_type": "code",
      "execution_count": 13,
      "metadata": {
        "id": "wPHaBItodHy2",
        "colab": {
          "base_uri": "https://localhost:8080/"
        },
        "outputId": "fda8be01-5338-4fb6-a7f4-0cccc96035e2"
      },
      "outputs": [
        {
          "output_type": "stream",
          "name": "stdout",
          "text": [
            "mkdir: cannot create directory ‘test_result’: File exists\n"
          ]
        }
      ],
      "source": [
        "!mkdir test_result"
      ]
    },
    {
      "cell_type": "code",
      "execution_count": 14,
      "metadata": {
        "colab": {
          "base_uri": "https://localhost:8080/"
        },
        "id": "rzOJmsdce1WL",
        "outputId": "bf5348fd-f47e-42d9-83cc-0bf3714c6afd"
      },
      "outputs": [
        {
          "output_type": "stream",
          "name": "stdout",
          "text": [
            "/usr/local/lib/python3.8/dist-packages/torchmetrics/utilities/prints.py:36: UserWarning: Metric `PrecisionRecallCurve` will save all targets and predictions in buffer. For large datasets this may lead to large memory footprint.\n",
            "  warnings.warn(*args, **kwargs)\n",
            "/usr/local/lib/python3.8/dist-packages/anomalib/utils/callbacks/__init__.py:143: UserWarning: Export option: None not found. Defaulting to no model export\n",
            "  warnings.warn(f\"Export option: {config.optimization.export_mode} not found. Defaulting to no model export\")\n",
            "/usr/local/lib/python3.8/dist-packages/pytorch_lightning/trainer/connectors/checkpoint_connector.py:51: LightningDeprecationWarning: Setting `Trainer(resume_from_checkpoint=)` is deprecated in v1.5 and will be removed in v1.7. Please pass `Trainer.fit(ckpt_path=)` directly instead.\n",
            "  rank_zero_deprecation(\n",
            "GPU available: True, used: True\n",
            "TPU available: False, using: 0 TPU cores\n",
            "IPU available: False, using: 0 IPUs\n",
            "HPU available: False, using: 0 HPUs\n",
            "`Trainer(limit_train_batches=1.0)` was configured so 100% of the batches per epoch will be used..\n",
            "`Trainer(limit_val_batches=1.0)` was configured so 100% of the batches will be used..\n",
            "`Trainer(limit_test_batches=1.0)` was configured so 100% of the batches will be used..\n",
            "`Trainer(limit_predict_batches=1.0)` was configured so 100% of the batches will be used..\n",
            "`Trainer(val_check_interval=1.0)` was configured so validation will run at the end of the training epoch..\n",
            "Transform configs has not been provided. Images will be normalized using ImageNet statistics.\n",
            "/usr/local/lib/python3.8/dist-packages/torchmetrics/utilities/prints.py:36: UserWarning: Metric `ROC` will save all targets and predictions in buffer. For large datasets this may lead to large memory footprint.\n",
            "  warnings.warn(*args, **kwargs)\n",
            "LOCAL_RANK: 0 - CUDA_VISIBLE_DEVICES: [0]\n",
            "Traceback (most recent call last):\n",
            "  File \"/usr/local/lib/python3.8/dist-packages/tensorboard/compat/__init__.py\", line 42, in tf\n",
            "    from tensorboard.compat import notf  # noqa: F401\n",
            "ImportError: cannot import name 'notf' from 'tensorboard.compat' (/usr/local/lib/python3.8/dist-packages/tensorboard/compat/__init__.py)\n",
            "\n",
            "During handling of the above exception, another exception occurred:\n",
            "\n",
            "RuntimeError: module compiled against API version 0xe but this version of numpy is 0xd\n",
            "Predicting DataLoader 0: 100% 1/1 [00:00<00:00,  1.05it/s]\n"
          ]
        }
      ],
      "source": [
        "!python tools/inference/lightning_inference.py \\\n",
        "    --config anomalib/models/padim/config.yaml \\\n",
        "    --weights results/padim/mvtec/bottle/weights/model.ckpt \\\n",
        "    --input datasets/MVTec/bottle/test/broken_small/008.png \\\n",
        "    --output test_result \\\n",
        "    --visualization_mode full"
      ]
    }
  ],
  "metadata": {
    "colab": {
      "provenance": [],
      "mount_file_id": "1NZD2JM4Yp4L7wWr_Txvla_XVr42CTAcS",
      "authorship_tag": "ABX9TyPRidkIXAJCSLs+X01veNoj",
      "include_colab_link": true
    },
    "kernelspec": {
      "display_name": "Python 3",
      "name": "python3"
    },
    "language_info": {
      "name": "python"
    },
    "accelerator": "GPU",
    "gpuClass": "standard"
  },
  "nbformat": 4,
  "nbformat_minor": 0
}